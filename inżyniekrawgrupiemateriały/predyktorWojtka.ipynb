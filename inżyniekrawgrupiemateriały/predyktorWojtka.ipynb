{
 "cells": [
  {
   "cell_type": "code",
   "execution_count": 136,
   "id": "56e29491-583b-44d3-beda-473665fc576c",
   "metadata": {},
   "outputs": [],
   "source": [
    "import pandas as pd\n",
    "import numpy as np\n",
    "from sklearn.tree import DecisionTreeRegressor\n",
    "from sklearn.model_selection import train_test_split\n",
    "from sklearn.metrics import accuracy_score\n",
    "from sklearn.model_selection import GridSearchCV\n",
    "from sklearn.metrics import mean_squared_error\n",
    "from sklearn.ensemble import HistGradientBoostingRegressor"
   ]
  },
  {
   "cell_type": "code",
   "execution_count": 137,
   "id": "24890d16-2491-4bb3-99e2-d94d63305130",
   "metadata": {},
   "outputs": [],
   "source": [
    "baza = pd.read_csv('alefajnatabeleczka.csv')"
   ]
  },
  {
   "cell_type": "code",
   "execution_count": 138,
   "id": "1a152b87-4fda-45fb-ba10-ae9402975ab3",
   "metadata": {},
   "outputs": [
    {
     "name": "stdout",
     "output_type": "stream",
     "text": [
      "<class 'pandas.core.frame.DataFrame'>\n",
      "RangeIndex: 2000 entries, 0 to 1999\n",
      "Data columns (total 12 columns):\n",
      " #   Column        Non-Null Count  Dtype  \n",
      "---  ------        --------------  -----  \n",
      " 0   years         2000 non-null   float64\n",
      " 1   patents       2000 non-null   float64\n",
      " 2   projects      2000 non-null   float64\n",
      " 3   technologies  2000 non-null   float64\n",
      " 4   learning      2000 non-null   float64\n",
      " 5   halfYears     2000 non-null   float64\n",
      " 6   training      2000 non-null   float64\n",
      " 7   education     2000 non-null   float64\n",
      " 8   groupWork     2000 non-null   float64\n",
      " 9   english       2000 non-null   float64\n",
      " 10  overtime      2000 non-null   float64\n",
      " 11  seniority     2000 non-null   float64\n",
      "dtypes: float64(12)\n",
      "memory usage: 187.6 KB\n"
     ]
    }
   ],
   "source": [
    "baza.info()"
   ]
  },
  {
   "cell_type": "code",
   "execution_count": 139,
   "id": "b359cf2c-9dca-4215-a164-fbb543a236d1",
   "metadata": {},
   "outputs": [
    {
     "data": {
      "text/html": [
       "<div>\n",
       "<style scoped>\n",
       "    .dataframe tbody tr th:only-of-type {\n",
       "        vertical-align: middle;\n",
       "    }\n",
       "\n",
       "    .dataframe tbody tr th {\n",
       "        vertical-align: top;\n",
       "    }\n",
       "\n",
       "    .dataframe thead th {\n",
       "        text-align: right;\n",
       "    }\n",
       "</style>\n",
       "<table border=\"1\" class=\"dataframe\">\n",
       "  <thead>\n",
       "    <tr style=\"text-align: right;\">\n",
       "      <th></th>\n",
       "      <th>years</th>\n",
       "      <th>patents</th>\n",
       "      <th>projects</th>\n",
       "      <th>technologies</th>\n",
       "      <th>learning</th>\n",
       "      <th>halfYears</th>\n",
       "      <th>training</th>\n",
       "      <th>education</th>\n",
       "      <th>groupWork</th>\n",
       "      <th>english</th>\n",
       "      <th>overtime</th>\n",
       "      <th>seniority</th>\n",
       "    </tr>\n",
       "  </thead>\n",
       "  <tbody>\n",
       "    <tr>\n",
       "      <th>count</th>\n",
       "      <td>2000.000000</td>\n",
       "      <td>2000.000000</td>\n",
       "      <td>2000.000000</td>\n",
       "      <td>2000.000000</td>\n",
       "      <td>2000.000000</td>\n",
       "      <td>2000.000000</td>\n",
       "      <td>2000.000000</td>\n",
       "      <td>2000.000000</td>\n",
       "      <td>2000.000000</td>\n",
       "      <td>2000.000000</td>\n",
       "      <td>2000.000000</td>\n",
       "      <td>2000.000000</td>\n",
       "    </tr>\n",
       "    <tr>\n",
       "      <th>mean</th>\n",
       "      <td>0.405200</td>\n",
       "      <td>0.173300</td>\n",
       "      <td>0.528850</td>\n",
       "      <td>0.303317</td>\n",
       "      <td>0.485125</td>\n",
       "      <td>0.227850</td>\n",
       "      <td>0.488350</td>\n",
       "      <td>0.484300</td>\n",
       "      <td>0.504625</td>\n",
       "      <td>0.500750</td>\n",
       "      <td>0.504812</td>\n",
       "      <td>0.397517</td>\n",
       "    </tr>\n",
       "    <tr>\n",
       "      <th>std</th>\n",
       "      <td>0.338807</td>\n",
       "      <td>0.298851</td>\n",
       "      <td>0.355142</td>\n",
       "      <td>0.304865</td>\n",
       "      <td>0.359774</td>\n",
       "      <td>0.241803</td>\n",
       "      <td>0.340349</td>\n",
       "      <td>0.343005</td>\n",
       "      <td>0.353036</td>\n",
       "      <td>0.403678</td>\n",
       "      <td>0.299518</td>\n",
       "      <td>0.239096</td>\n",
       "    </tr>\n",
       "    <tr>\n",
       "      <th>min</th>\n",
       "      <td>0.000000</td>\n",
       "      <td>0.000000</td>\n",
       "      <td>0.000000</td>\n",
       "      <td>0.000000</td>\n",
       "      <td>0.000000</td>\n",
       "      <td>0.000000</td>\n",
       "      <td>0.000000</td>\n",
       "      <td>0.000000</td>\n",
       "      <td>0.000000</td>\n",
       "      <td>0.000000</td>\n",
       "      <td>0.000000</td>\n",
       "      <td>0.006000</td>\n",
       "    </tr>\n",
       "    <tr>\n",
       "      <th>25%</th>\n",
       "      <td>0.000000</td>\n",
       "      <td>0.000000</td>\n",
       "      <td>0.200000</td>\n",
       "      <td>0.000000</td>\n",
       "      <td>0.250000</td>\n",
       "      <td>0.000000</td>\n",
       "      <td>0.200000</td>\n",
       "      <td>0.200000</td>\n",
       "      <td>0.250000</td>\n",
       "      <td>0.000000</td>\n",
       "      <td>0.250000</td>\n",
       "      <td>0.180750</td>\n",
       "    </tr>\n",
       "    <tr>\n",
       "      <th>50%</th>\n",
       "      <td>0.400000</td>\n",
       "      <td>0.000000</td>\n",
       "      <td>0.500000</td>\n",
       "      <td>0.200000</td>\n",
       "      <td>0.500000</td>\n",
       "      <td>0.200000</td>\n",
       "      <td>0.500000</td>\n",
       "      <td>0.400000</td>\n",
       "      <td>0.500000</td>\n",
       "      <td>0.500000</td>\n",
       "      <td>0.500000</td>\n",
       "      <td>0.364000</td>\n",
       "    </tr>\n",
       "    <tr>\n",
       "      <th>75%</th>\n",
       "      <td>0.600000</td>\n",
       "      <td>0.200000</td>\n",
       "      <td>0.900000</td>\n",
       "      <td>0.533000</td>\n",
       "      <td>0.750000</td>\n",
       "      <td>0.400000</td>\n",
       "      <td>0.800000</td>\n",
       "      <td>0.800000</td>\n",
       "      <td>0.750000</td>\n",
       "      <td>1.000000</td>\n",
       "      <td>0.775000</td>\n",
       "      <td>0.598000</td>\n",
       "    </tr>\n",
       "    <tr>\n",
       "      <th>max</th>\n",
       "      <td>1.000000</td>\n",
       "      <td>1.000000</td>\n",
       "      <td>1.000000</td>\n",
       "      <td>1.000000</td>\n",
       "      <td>1.000000</td>\n",
       "      <td>0.900000</td>\n",
       "      <td>1.000000</td>\n",
       "      <td>1.000000</td>\n",
       "      <td>1.000000</td>\n",
       "      <td>1.000000</td>\n",
       "      <td>1.000000</td>\n",
       "      <td>0.954000</td>\n",
       "    </tr>\n",
       "  </tbody>\n",
       "</table>\n",
       "</div>"
      ],
      "text/plain": [
       "             years      patents     projects  technologies     learning  \\\n",
       "count  2000.000000  2000.000000  2000.000000   2000.000000  2000.000000   \n",
       "mean      0.405200     0.173300     0.528850      0.303317     0.485125   \n",
       "std       0.338807     0.298851     0.355142      0.304865     0.359774   \n",
       "min       0.000000     0.000000     0.000000      0.000000     0.000000   \n",
       "25%       0.000000     0.000000     0.200000      0.000000     0.250000   \n",
       "50%       0.400000     0.000000     0.500000      0.200000     0.500000   \n",
       "75%       0.600000     0.200000     0.900000      0.533000     0.750000   \n",
       "max       1.000000     1.000000     1.000000      1.000000     1.000000   \n",
       "\n",
       "         halfYears     training    education    groupWork      english  \\\n",
       "count  2000.000000  2000.000000  2000.000000  2000.000000  2000.000000   \n",
       "mean      0.227850     0.488350     0.484300     0.504625     0.500750   \n",
       "std       0.241803     0.340349     0.343005     0.353036     0.403678   \n",
       "min       0.000000     0.000000     0.000000     0.000000     0.000000   \n",
       "25%       0.000000     0.200000     0.200000     0.250000     0.000000   \n",
       "50%       0.200000     0.500000     0.400000     0.500000     0.500000   \n",
       "75%       0.400000     0.800000     0.800000     0.750000     1.000000   \n",
       "max       0.900000     1.000000     1.000000     1.000000     1.000000   \n",
       "\n",
       "          overtime    seniority  \n",
       "count  2000.000000  2000.000000  \n",
       "mean      0.504812     0.397517  \n",
       "std       0.299518     0.239096  \n",
       "min       0.000000     0.006000  \n",
       "25%       0.250000     0.180750  \n",
       "50%       0.500000     0.364000  \n",
       "75%       0.775000     0.598000  \n",
       "max       1.000000     0.954000  "
      ]
     },
     "execution_count": 139,
     "metadata": {},
     "output_type": "execute_result"
    }
   ],
   "source": [
    "baza.describe()"
   ]
  },
  {
   "cell_type": "code",
   "execution_count": 140,
   "id": "dc5dab59-dc1b-417b-8f02-433b51b4c0ef",
   "metadata": {},
   "outputs": [
    {
     "data": {
      "text/html": [
       "<div>\n",
       "<style scoped>\n",
       "    .dataframe tbody tr th:only-of-type {\n",
       "        vertical-align: middle;\n",
       "    }\n",
       "\n",
       "    .dataframe tbody tr th {\n",
       "        vertical-align: top;\n",
       "    }\n",
       "\n",
       "    .dataframe thead th {\n",
       "        text-align: right;\n",
       "    }\n",
       "</style>\n",
       "<table border=\"1\" class=\"dataframe\">\n",
       "  <thead>\n",
       "    <tr style=\"text-align: right;\">\n",
       "      <th></th>\n",
       "      <th>years</th>\n",
       "      <th>patents</th>\n",
       "      <th>projects</th>\n",
       "      <th>technologies</th>\n",
       "      <th>learning</th>\n",
       "      <th>halfYears</th>\n",
       "      <th>training</th>\n",
       "      <th>education</th>\n",
       "      <th>groupWork</th>\n",
       "      <th>english</th>\n",
       "      <th>overtime</th>\n",
       "      <th>seniority</th>\n",
       "    </tr>\n",
       "  </thead>\n",
       "  <tbody>\n",
       "    <tr>\n",
       "      <th>0</th>\n",
       "      <td>0.8</td>\n",
       "      <td>0.2</td>\n",
       "      <td>0.7</td>\n",
       "      <td>0.400</td>\n",
       "      <td>0.0</td>\n",
       "      <td>0.5</td>\n",
       "      <td>0.4</td>\n",
       "      <td>0.6</td>\n",
       "      <td>0.00</td>\n",
       "      <td>1.0</td>\n",
       "      <td>0.200</td>\n",
       "      <td>0.539</td>\n",
       "    </tr>\n",
       "    <tr>\n",
       "      <th>1</th>\n",
       "      <td>0.4</td>\n",
       "      <td>0.0</td>\n",
       "      <td>0.9</td>\n",
       "      <td>0.333</td>\n",
       "      <td>0.5</td>\n",
       "      <td>0.3</td>\n",
       "      <td>0.4</td>\n",
       "      <td>0.4</td>\n",
       "      <td>1.00</td>\n",
       "      <td>1.0</td>\n",
       "      <td>0.250</td>\n",
       "      <td>0.460</td>\n",
       "    </tr>\n",
       "    <tr>\n",
       "      <th>2</th>\n",
       "      <td>0.8</td>\n",
       "      <td>0.0</td>\n",
       "      <td>0.8</td>\n",
       "      <td>0.667</td>\n",
       "      <td>0.0</td>\n",
       "      <td>0.5</td>\n",
       "      <td>0.7</td>\n",
       "      <td>0.8</td>\n",
       "      <td>0.75</td>\n",
       "      <td>0.5</td>\n",
       "      <td>0.425</td>\n",
       "      <td>0.610</td>\n",
       "    </tr>\n",
       "    <tr>\n",
       "      <th>3</th>\n",
       "      <td>0.4</td>\n",
       "      <td>0.0</td>\n",
       "      <td>0.7</td>\n",
       "      <td>0.267</td>\n",
       "      <td>1.0</td>\n",
       "      <td>0.1</td>\n",
       "      <td>0.5</td>\n",
       "      <td>0.8</td>\n",
       "      <td>0.25</td>\n",
       "      <td>0.5</td>\n",
       "      <td>0.100</td>\n",
       "      <td>0.430</td>\n",
       "    </tr>\n",
       "    <tr>\n",
       "      <th>4</th>\n",
       "      <td>0.6</td>\n",
       "      <td>1.0</td>\n",
       "      <td>1.0</td>\n",
       "      <td>1.000</td>\n",
       "      <td>0.0</td>\n",
       "      <td>0.4</td>\n",
       "      <td>1.0</td>\n",
       "      <td>1.0</td>\n",
       "      <td>0.25</td>\n",
       "      <td>1.0</td>\n",
       "      <td>0.275</td>\n",
       "      <td>0.697</td>\n",
       "    </tr>\n",
       "  </tbody>\n",
       "</table>\n",
       "</div>"
      ],
      "text/plain": [
       "   years  patents  projects  technologies  learning  halfYears  training  \\\n",
       "0    0.8      0.2       0.7         0.400       0.0        0.5       0.4   \n",
       "1    0.4      0.0       0.9         0.333       0.5        0.3       0.4   \n",
       "2    0.8      0.0       0.8         0.667       0.0        0.5       0.7   \n",
       "3    0.4      0.0       0.7         0.267       1.0        0.1       0.5   \n",
       "4    0.6      1.0       1.0         1.000       0.0        0.4       1.0   \n",
       "\n",
       "   education  groupWork  english  overtime  seniority  \n",
       "0        0.6       0.00      1.0     0.200      0.539  \n",
       "1        0.4       1.00      1.0     0.250      0.460  \n",
       "2        0.8       0.75      0.5     0.425      0.610  \n",
       "3        0.8       0.25      0.5     0.100      0.430  \n",
       "4        1.0       0.25      1.0     0.275      0.697  "
      ]
     },
     "execution_count": 140,
     "metadata": {},
     "output_type": "execute_result"
    }
   ],
   "source": [
    "baza.head()"
   ]
  },
  {
   "cell_type": "code",
   "execution_count": 141,
   "id": "49d852a2-676d-48de-accd-4eeda6208d6f",
   "metadata": {},
   "outputs": [
    {
     "data": {
      "text/plain": [
       "years           0\n",
       "patents         0\n",
       "projects        0\n",
       "technologies    0\n",
       "learning        0\n",
       "halfYears       0\n",
       "training        0\n",
       "education       0\n",
       "groupWork       0\n",
       "english         0\n",
       "overtime        0\n",
       "seniority       0\n",
       "dtype: int64"
      ]
     },
     "execution_count": 141,
     "metadata": {},
     "output_type": "execute_result"
    }
   ],
   "source": [
    "baza.isnull().sum()"
   ]
  },
  {
   "cell_type": "code",
   "execution_count": 142,
   "id": "6138ae8e-cc67-45ce-aa1d-4f4d5ab5ef09",
   "metadata": {},
   "outputs": [],
   "source": [
    "X = baza.iloc[:, :-1].values\n",
    "y = baza.iloc[:, -1].values"
   ]
  },
  {
   "cell_type": "code",
   "execution_count": 143,
   "id": "c5a2ff17-3f29-47c3-a9bf-815214e1c2bd",
   "metadata": {},
   "outputs": [],
   "source": [
    "X_train, X_test, y_train, y_test = train_test_split(X, y, test_size=0.2, random_state=42)"
   ]
  },
  {
   "cell_type": "code",
   "execution_count": 144,
   "id": "b94dd082-836f-4fc7-9228-e9a009618572",
   "metadata": {},
   "outputs": [],
   "source": [
    "model = HistGradientBoostingRegressor()"
   ]
  },
  {
   "cell_type": "code",
   "execution_count": 145,
   "id": "a9e617f0-c382-41d4-a5fe-974dff40a489",
   "metadata": {},
   "outputs": [
    {
     "data": {
      "text/html": [
       "<style>#sk-container-id-6 {color: black;background-color: white;}#sk-container-id-6 pre{padding: 0;}#sk-container-id-6 div.sk-toggleable {background-color: white;}#sk-container-id-6 label.sk-toggleable__label {cursor: pointer;display: block;width: 100%;margin-bottom: 0;padding: 0.3em;box-sizing: border-box;text-align: center;}#sk-container-id-6 label.sk-toggleable__label-arrow:before {content: \"▸\";float: left;margin-right: 0.25em;color: #696969;}#sk-container-id-6 label.sk-toggleable__label-arrow:hover:before {color: black;}#sk-container-id-6 div.sk-estimator:hover label.sk-toggleable__label-arrow:before {color: black;}#sk-container-id-6 div.sk-toggleable__content {max-height: 0;max-width: 0;overflow: hidden;text-align: left;background-color: #f0f8ff;}#sk-container-id-6 div.sk-toggleable__content pre {margin: 0.2em;color: black;border-radius: 0.25em;background-color: #f0f8ff;}#sk-container-id-6 input.sk-toggleable__control:checked~div.sk-toggleable__content {max-height: 200px;max-width: 100%;overflow: auto;}#sk-container-id-6 input.sk-toggleable__control:checked~label.sk-toggleable__label-arrow:before {content: \"▾\";}#sk-container-id-6 div.sk-estimator input.sk-toggleable__control:checked~label.sk-toggleable__label {background-color: #d4ebff;}#sk-container-id-6 div.sk-label input.sk-toggleable__control:checked~label.sk-toggleable__label {background-color: #d4ebff;}#sk-container-id-6 input.sk-hidden--visually {border: 0;clip: rect(1px 1px 1px 1px);clip: rect(1px, 1px, 1px, 1px);height: 1px;margin: -1px;overflow: hidden;padding: 0;position: absolute;width: 1px;}#sk-container-id-6 div.sk-estimator {font-family: monospace;background-color: #f0f8ff;border: 1px dotted black;border-radius: 0.25em;box-sizing: border-box;margin-bottom: 0.5em;}#sk-container-id-6 div.sk-estimator:hover {background-color: #d4ebff;}#sk-container-id-6 div.sk-parallel-item::after {content: \"\";width: 100%;border-bottom: 1px solid gray;flex-grow: 1;}#sk-container-id-6 div.sk-label:hover label.sk-toggleable__label {background-color: #d4ebff;}#sk-container-id-6 div.sk-serial::before {content: \"\";position: absolute;border-left: 1px solid gray;box-sizing: border-box;top: 0;bottom: 0;left: 50%;z-index: 0;}#sk-container-id-6 div.sk-serial {display: flex;flex-direction: column;align-items: center;background-color: white;padding-right: 0.2em;padding-left: 0.2em;position: relative;}#sk-container-id-6 div.sk-item {position: relative;z-index: 1;}#sk-container-id-6 div.sk-parallel {display: flex;align-items: stretch;justify-content: center;background-color: white;position: relative;}#sk-container-id-6 div.sk-item::before, #sk-container-id-6 div.sk-parallel-item::before {content: \"\";position: absolute;border-left: 1px solid gray;box-sizing: border-box;top: 0;bottom: 0;left: 50%;z-index: -1;}#sk-container-id-6 div.sk-parallel-item {display: flex;flex-direction: column;z-index: 1;position: relative;background-color: white;}#sk-container-id-6 div.sk-parallel-item:first-child::after {align-self: flex-end;width: 50%;}#sk-container-id-6 div.sk-parallel-item:last-child::after {align-self: flex-start;width: 50%;}#sk-container-id-6 div.sk-parallel-item:only-child::after {width: 0;}#sk-container-id-6 div.sk-dashed-wrapped {border: 1px dashed gray;margin: 0 0.4em 0.5em 0.4em;box-sizing: border-box;padding-bottom: 0.4em;background-color: white;}#sk-container-id-6 div.sk-label label {font-family: monospace;font-weight: bold;display: inline-block;line-height: 1.2em;}#sk-container-id-6 div.sk-label-container {text-align: center;}#sk-container-id-6 div.sk-container {/* jupyter's `normalize.less` sets `[hidden] { display: none; }` but bootstrap.min.css set `[hidden] { display: none !important; }` so we also need the `!important` here to be able to override the default hidden behavior on the sphinx rendered scikit-learn.org. See: https://github.com/scikit-learn/scikit-learn/issues/21755 */display: inline-block !important;position: relative;}#sk-container-id-6 div.sk-text-repr-fallback {display: none;}</style><div id=\"sk-container-id-6\" class=\"sk-top-container\"><div class=\"sk-text-repr-fallback\"><pre>HistGradientBoostingRegressor()</pre><b>In a Jupyter environment, please rerun this cell to show the HTML representation or trust the notebook. <br />On GitHub, the HTML representation is unable to render, please try loading this page with nbviewer.org.</b></div><div class=\"sk-container\" hidden><div class=\"sk-item\"><div class=\"sk-estimator sk-toggleable\"><input class=\"sk-toggleable__control sk-hidden--visually\" id=\"sk-estimator-id-6\" type=\"checkbox\" checked><label for=\"sk-estimator-id-6\" class=\"sk-toggleable__label sk-toggleable__label-arrow\">HistGradientBoostingRegressor</label><div class=\"sk-toggleable__content\"><pre>HistGradientBoostingRegressor()</pre></div></div></div></div></div>"
      ],
      "text/plain": [
       "HistGradientBoostingRegressor()"
      ]
     },
     "execution_count": 145,
     "metadata": {},
     "output_type": "execute_result"
    }
   ],
   "source": [
    "model.fit(X_train, y_train)"
   ]
  },
  {
   "cell_type": "code",
   "execution_count": 146,
   "id": "938710fa-050b-4180-82e2-8a74ddcc8837",
   "metadata": {},
   "outputs": [],
   "source": [
    "y_pred = model.predict(X_test)"
   ]
  },
  {
   "cell_type": "code",
   "execution_count": 147,
   "id": "829b8f37-2b29-4c69-8aa4-f54f6e41e16a",
   "metadata": {},
   "outputs": [
    {
     "name": "stdout",
     "output_type": "stream",
     "text": [
      "Błąd średniokwadratowy modelu: 0.0001778436117221316\n"
     ]
    }
   ],
   "source": [
    "mse = mean_squared_error(y_test, y_pred)\n",
    "print(\"Błąd średniokwadratowy modelu:\", mse)"
   ]
  },
  {
   "cell_type": "code",
   "execution_count": 148,
   "id": "3de31b4d-7b6e-4fae-b84f-f4a49e637a57",
   "metadata": {},
   "outputs": [],
   "source": [
    "#przykładowy ankietowany\n",
    "#3 lata doświadczenia - 0,6\n",
    "#0 patentów - 0\n",
    "#6 projektów - 0,6\n",
    "#8 technologii - 0,533\n",
    "#średnie przyswajanie wiedzy - 0,5\n",
    "#5 miejsc gdzie pracował dłużej niż pół roku - 0,5\n",
    "#9 szkoleń - 0,9\n",
    "#magister - 0,6\n",
    "#dobra praca w grupie - 0,75\n",
    "#angielski c1 - 0,5\n",
    "#29 nadgodzin - 0,725"
   ]
  },
  {
   "cell_type": "code",
   "execution_count": 149,
   "id": "f5785fdd-86b2-46e2-be47-cd102f9e369d",
   "metadata": {},
   "outputs": [],
   "source": [
    "ankietowany = np.array([[0.6, 0, 0.6, 0.533, 0.5, 0.5, 0.5, 0.9, 0.6, 0.75, 0.5]])"
   ]
  },
  {
   "cell_type": "code",
   "execution_count": 150,
   "id": "72fde093-9540-4e11-a83f-d634cde65815",
   "metadata": {},
   "outputs": [],
   "source": [
    "predykcja = model.predict(ankietowany)"
   ]
  },
  {
   "cell_type": "code",
   "execution_count": 151,
   "id": "b4142a96-dd06-4aad-8fc9-78ea2957014f",
   "metadata": {},
   "outputs": [
    {
     "name": "stdout",
     "output_type": "stream",
     "text": [
      "Przewidziana wartość: [0.54039065]\n"
     ]
    }
   ],
   "source": [
    "print(\"Przewidziana wartość:\", predykcja)"
   ]
  },
  {
   "cell_type": "code",
   "execution_count": 157,
   "id": "0757a477-7bd0-447b-a2b9-1e51979eb3a9",
   "metadata": {},
   "outputs": [],
   "source": [
    "ankietowany2 = np.array([[0, 0, 0.7, 0.2, 0.5, 0, 0.1, 0.2, 0.5, 0, 0.7]])"
   ]
  },
  {
   "cell_type": "code",
   "execution_count": 158,
   "id": "8016b59f-354c-4d9b-a535-92dbdb16381e",
   "metadata": {},
   "outputs": [],
   "source": [
    "predykcja = model.predict(ankietowany2)"
   ]
  },
  {
   "cell_type": "code",
   "execution_count": 159,
   "id": "bdf86742-98f2-4b99-b200-dba7e05ff047",
   "metadata": {},
   "outputs": [
    {
     "name": "stdout",
     "output_type": "stream",
     "text": [
      "Przewidziana wartość: [0.18707857]\n"
     ]
    }
   ],
   "source": [
    "print(\"Przewidziana wartość:\", predykcja)"
   ]
  },
  {
   "cell_type": "code",
   "execution_count": 163,
   "id": "9b4aca26-fc29-46c7-837e-c099d3105e58",
   "metadata": {},
   "outputs": [],
   "source": [
    "ankietowany3 = np.array([[0, 0, 0.5, 0, 0.25, 0, 0, 0.2, 0, 0.5, 0.475]])"
   ]
  },
  {
   "cell_type": "code",
   "execution_count": 164,
   "id": "d02adbdc-3f03-4f3d-ac85-d02571ad83a2",
   "metadata": {},
   "outputs": [],
   "source": [
    "predykcja = model.predict(ankietowany3)"
   ]
  },
  {
   "cell_type": "code",
   "execution_count": 165,
   "id": "dc349cb1-d76b-4f42-8bf7-384a6ec1d745",
   "metadata": {},
   "outputs": [
    {
     "name": "stdout",
     "output_type": "stream",
     "text": [
      "Przewidziana wartość: [0.106852]\n"
     ]
    }
   ],
   "source": [
    "print(\"Przewidziana wartość:\", predykcja)"
   ]
  },
  {
   "cell_type": "code",
   "execution_count": null,
   "id": "4eb301ea-1f50-48d6-a794-33d8bfda6e30",
   "metadata": {},
   "outputs": [],
   "source": []
  }
 ],
 "metadata": {
  "kernelspec": {
   "display_name": "Python 3 (ipykernel)",
   "language": "python",
   "name": "python3"
  },
  "language_info": {
   "codemirror_mode": {
    "name": "ipython",
    "version": 3
   },
   "file_extension": ".py",
   "mimetype": "text/x-python",
   "name": "python",
   "nbconvert_exporter": "python",
   "pygments_lexer": "ipython3",
   "version": "3.10.9"
  }
 },
 "nbformat": 4,
 "nbformat_minor": 5
}
